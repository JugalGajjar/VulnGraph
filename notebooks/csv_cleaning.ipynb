{
 "cells": [
  {
   "cell_type": "code",
   "execution_count": 2,
   "id": "02235674",
   "metadata": {},
   "outputs": [],
   "source": [
    "import pandas as pd"
   ]
  },
  {
   "cell_type": "code",
   "execution_count": 5,
   "id": "427baebc",
   "metadata": {},
   "outputs": [],
   "source": [
    "df_safe = pd.read_csv(\"./safe.csv\", encoding=\"latin1\")\n",
    "df_merge = pd.read_csv(\"./merge.csv\", encoding=\"latin1\")"
   ]
  },
  {
   "cell_type": "code",
   "execution_count": 6,
   "id": "2ccbedd6",
   "metadata": {},
   "outputs": [
    {
     "data": {
      "text/html": [
       "<div>\n",
       "<style scoped>\n",
       "    .dataframe tbody tr th:only-of-type {\n",
       "        vertical-align: middle;\n",
       "    }\n",
       "\n",
       "    .dataframe tbody tr th {\n",
       "        vertical-align: top;\n",
       "    }\n",
       "\n",
       "    .dataframe thead th {\n",
       "        text-align: right;\n",
       "    }\n",
       "</style>\n",
       "<table border=\"1\" class=\"dataframe\">\n",
       "  <thead>\n",
       "    <tr style=\"text-align: right;\">\n",
       "      <th></th>\n",
       "      <th>id</th>\n",
       "      <th>code</th>\n",
       "      <th>label</th>\n",
       "    </tr>\n",
       "  </thead>\n",
       "  <tbody>\n",
       "    <tr>\n",
       "      <th>0</th>\n",
       "      <td>36163</td>\n",
       "      <td>import java.util.InputMismatchException;\\nimpo...</td>\n",
       "      <td>0</td>\n",
       "    </tr>\n",
       "    <tr>\n",
       "      <th>1</th>\n",
       "      <td>36164</td>\n",
       "      <td>import java.util.InputMismatchException;\\nimpo...</td>\n",
       "      <td>0</td>\n",
       "    </tr>\n",
       "    <tr>\n",
       "      <th>2</th>\n",
       "      <td>36165</td>\n",
       "      <td>import java.util.InputMismatchException;\\nimpo...</td>\n",
       "      <td>0</td>\n",
       "    </tr>\n",
       "    <tr>\n",
       "      <th>3</th>\n",
       "      <td>36166</td>\n",
       "      <td>import java.util.InputMismatchException;\\nimpo...</td>\n",
       "      <td>0</td>\n",
       "    </tr>\n",
       "    <tr>\n",
       "      <th>4</th>\n",
       "      <td>36167</td>\n",
       "      <td>import java.util.InputMismatchException;\\nimpo...</td>\n",
       "      <td>0</td>\n",
       "    </tr>\n",
       "  </tbody>\n",
       "</table>\n",
       "</div>"
      ],
      "text/plain": [
       "      id                                               code  label\n",
       "0  36163  import java.util.InputMismatchException;\\nimpo...      0\n",
       "1  36164  import java.util.InputMismatchException;\\nimpo...      0\n",
       "2  36165  import java.util.InputMismatchException;\\nimpo...      0\n",
       "3  36166  import java.util.InputMismatchException;\\nimpo...      0\n",
       "4  36167  import java.util.InputMismatchException;\\nimpo...      0"
      ]
     },
     "execution_count": 6,
     "metadata": {},
     "output_type": "execute_result"
    }
   ],
   "source": [
    "df_safe.head()"
   ]
  },
  {
   "cell_type": "code",
   "execution_count": 7,
   "id": "9a9c1cb0",
   "metadata": {},
   "outputs": [
    {
     "data": {
      "text/html": [
       "<div>\n",
       "<style scoped>\n",
       "    .dataframe tbody tr th:only-of-type {\n",
       "        vertical-align: middle;\n",
       "    }\n",
       "\n",
       "    .dataframe tbody tr th {\n",
       "        vertical-align: top;\n",
       "    }\n",
       "\n",
       "    .dataframe thead th {\n",
       "        text-align: right;\n",
       "    }\n",
       "</style>\n",
       "<table border=\"1\" class=\"dataframe\">\n",
       "  <thead>\n",
       "    <tr style=\"text-align: right;\">\n",
       "      <th></th>\n",
       "      <th>id</th>\n",
       "      <th>code</th>\n",
       "      <th>label</th>\n",
       "    </tr>\n",
       "  </thead>\n",
       "  <tbody>\n",
       "    <tr>\n",
       "      <th>0</th>\n",
       "      <td>1</td>\n",
       "      <td>package org.bouncycastle.jcajce.provider.asymm...</td>\n",
       "      <td>1</td>\n",
       "    </tr>\n",
       "    <tr>\n",
       "      <th>1</th>\n",
       "      <td>2</td>\n",
       "      <td>/*\\n * Copyright (c) 2014-2015 VMware, Inc. Al...</td>\n",
       "      <td>1</td>\n",
       "    </tr>\n",
       "    <tr>\n",
       "      <th>2</th>\n",
       "      <td>3</td>\n",
       "      <td>package io.onedev.server.migration;\\n\\nimport ...</td>\n",
       "      <td>1</td>\n",
       "    </tr>\n",
       "    <tr>\n",
       "      <th>3</th>\n",
       "      <td>4</td>\n",
       "      <td>package org.airsonic.player.controller;\\n\\nimp...</td>\n",
       "      <td>0</td>\n",
       "    </tr>\n",
       "    <tr>\n",
       "      <th>4</th>\n",
       "      <td>5</td>\n",
       "      <td>/**\\n *\\n * Copyright 2009 Jive Software.\\n *\\...</td>\n",
       "      <td>1</td>\n",
       "    </tr>\n",
       "  </tbody>\n",
       "</table>\n",
       "</div>"
      ],
      "text/plain": [
       "   id                                               code  label\n",
       "0   1  package org.bouncycastle.jcajce.provider.asymm...      1\n",
       "1   2  /*\\n * Copyright (c) 2014-2015 VMware, Inc. Al...      1\n",
       "2   3  package io.onedev.server.migration;\\n\\nimport ...      1\n",
       "3   4  package org.airsonic.player.controller;\\n\\nimp...      0\n",
       "4   5  /**\\n *\\n * Copyright 2009 Jive Software.\\n *\\...      1"
      ]
     },
     "execution_count": 7,
     "metadata": {},
     "output_type": "execute_result"
    }
   ],
   "source": [
    "df_merge.head()"
   ]
  },
  {
   "cell_type": "code",
   "execution_count": 8,
   "id": "9e6216e6",
   "metadata": {},
   "outputs": [
    {
     "name": "stdout",
     "output_type": "stream",
     "text": [
      "<class 'pandas.core.frame.DataFrame'>\n",
      "RangeIndex: 5966 entries, 0 to 5965\n",
      "Data columns (total 3 columns):\n",
      " #   Column  Non-Null Count  Dtype \n",
      "---  ------  --------------  ----- \n",
      " 0   id      5966 non-null   int64 \n",
      " 1   code    5966 non-null   object\n",
      " 2   label   5966 non-null   int64 \n",
      "dtypes: int64(2), object(1)\n",
      "memory usage: 140.0+ KB\n"
     ]
    }
   ],
   "source": [
    "df_safe.info()"
   ]
  },
  {
   "cell_type": "code",
   "execution_count": 9,
   "id": "03fb8820",
   "metadata": {},
   "outputs": [
    {
     "name": "stdout",
     "output_type": "stream",
     "text": [
      "<class 'pandas.core.frame.DataFrame'>\n",
      "RangeIndex: 36162 entries, 0 to 36161\n",
      "Data columns (total 3 columns):\n",
      " #   Column  Non-Null Count  Dtype \n",
      "---  ------  --------------  ----- \n",
      " 0   id      36162 non-null  int64 \n",
      " 1   code    36162 non-null  object\n",
      " 2   label   36162 non-null  int64 \n",
      "dtypes: int64(2), object(1)\n",
      "memory usage: 847.7+ KB\n"
     ]
    }
   ],
   "source": [
    "df_merge.info()"
   ]
  },
  {
   "cell_type": "code",
   "execution_count": 10,
   "id": "dbf56fca",
   "metadata": {},
   "outputs": [],
   "source": [
    "df_combined = pd.concat([df_safe, df_merge], ignore_index=True)"
   ]
  },
  {
   "cell_type": "code",
   "execution_count": 11,
   "id": "5e032794",
   "metadata": {},
   "outputs": [
    {
     "name": "stdout",
     "output_type": "stream",
     "text": [
      "<class 'pandas.core.frame.DataFrame'>\n",
      "RangeIndex: 42128 entries, 0 to 42127\n",
      "Data columns (total 3 columns):\n",
      " #   Column  Non-Null Count  Dtype \n",
      "---  ------  --------------  ----- \n",
      " 0   id      42128 non-null  int64 \n",
      " 1   code    42128 non-null  object\n",
      " 2   label   42128 non-null  int64 \n",
      "dtypes: int64(2), object(1)\n",
      "memory usage: 987.5+ KB\n"
     ]
    }
   ],
   "source": [
    "df_combined.info()"
   ]
  },
  {
   "cell_type": "code",
   "execution_count": 12,
   "id": "a3d8c897",
   "metadata": {},
   "outputs": [
    {
     "data": {
      "text/plain": [
       "label\n",
       "1    35581\n",
       "0     6547\n",
       "Name: count, dtype: int64"
      ]
     },
     "execution_count": 12,
     "metadata": {},
     "output_type": "execute_result"
    }
   ],
   "source": [
    "df_combined[\"label\"].value_counts()"
   ]
  },
  {
   "cell_type": "code",
   "execution_count": 13,
   "id": "dfb27af1",
   "metadata": {},
   "outputs": [
    {
     "data": {
      "text/plain": [
       "np.int64(5655)"
      ]
     },
     "execution_count": 13,
     "metadata": {},
     "output_type": "execute_result"
    }
   ],
   "source": [
    "df_merge[\"code\"].duplicated().sum()"
   ]
  },
  {
   "cell_type": "code",
   "execution_count": null,
   "id": "eb626877",
   "metadata": {},
   "outputs": [],
   "source": [
    "df_clean = df_combined.drop_duplicates(subset=[\"code\"])"
   ]
  },
  {
   "cell_type": "code",
   "execution_count": 15,
   "id": "5c63a057",
   "metadata": {},
   "outputs": [
    {
     "name": "stdout",
     "output_type": "stream",
     "text": [
      "<class 'pandas.core.frame.DataFrame'>\n",
      "Index: 36473 entries, 0 to 42127\n",
      "Data columns (total 3 columns):\n",
      " #   Column  Non-Null Count  Dtype \n",
      "---  ------  --------------  ----- \n",
      " 0   id      36473 non-null  int64 \n",
      " 1   code    36473 non-null  object\n",
      " 2   label   36473 non-null  int64 \n",
      "dtypes: int64(2), object(1)\n",
      "memory usage: 1.1+ MB\n"
     ]
    }
   ],
   "source": [
    "df_clean.info()"
   ]
  },
  {
   "cell_type": "code",
   "execution_count": 16,
   "id": "266a5009",
   "metadata": {},
   "outputs": [
    {
     "data": {
      "text/html": [
       "<div>\n",
       "<style scoped>\n",
       "    .dataframe tbody tr th:only-of-type {\n",
       "        vertical-align: middle;\n",
       "    }\n",
       "\n",
       "    .dataframe tbody tr th {\n",
       "        vertical-align: top;\n",
       "    }\n",
       "\n",
       "    .dataframe thead th {\n",
       "        text-align: right;\n",
       "    }\n",
       "</style>\n",
       "<table border=\"1\" class=\"dataframe\">\n",
       "  <thead>\n",
       "    <tr style=\"text-align: right;\">\n",
       "      <th></th>\n",
       "      <th>id</th>\n",
       "      <th>code</th>\n",
       "      <th>label</th>\n",
       "    </tr>\n",
       "  </thead>\n",
       "  <tbody>\n",
       "    <tr>\n",
       "      <th>0</th>\n",
       "      <td>36163</td>\n",
       "      <td>import java.util.InputMismatchException;\\nimpo...</td>\n",
       "      <td>0</td>\n",
       "    </tr>\n",
       "    <tr>\n",
       "      <th>1</th>\n",
       "      <td>36164</td>\n",
       "      <td>import java.util.InputMismatchException;\\nimpo...</td>\n",
       "      <td>0</td>\n",
       "    </tr>\n",
       "    <tr>\n",
       "      <th>2</th>\n",
       "      <td>36165</td>\n",
       "      <td>import java.util.InputMismatchException;\\nimpo...</td>\n",
       "      <td>0</td>\n",
       "    </tr>\n",
       "    <tr>\n",
       "      <th>3</th>\n",
       "      <td>36166</td>\n",
       "      <td>import java.util.InputMismatchException;\\nimpo...</td>\n",
       "      <td>0</td>\n",
       "    </tr>\n",
       "    <tr>\n",
       "      <th>4</th>\n",
       "      <td>36167</td>\n",
       "      <td>import java.util.InputMismatchException;\\nimpo...</td>\n",
       "      <td>0</td>\n",
       "    </tr>\n",
       "  </tbody>\n",
       "</table>\n",
       "</div>"
      ],
      "text/plain": [
       "      id                                               code  label\n",
       "0  36163  import java.util.InputMismatchException;\\nimpo...      0\n",
       "1  36164  import java.util.InputMismatchException;\\nimpo...      0\n",
       "2  36165  import java.util.InputMismatchException;\\nimpo...      0\n",
       "3  36166  import java.util.InputMismatchException;\\nimpo...      0\n",
       "4  36167  import java.util.InputMismatchException;\\nimpo...      0"
      ]
     },
     "execution_count": 16,
     "metadata": {},
     "output_type": "execute_result"
    }
   ],
   "source": [
    "df_clean.head()"
   ]
  },
  {
   "cell_type": "code",
   "execution_count": 17,
   "id": "13bb1cdf",
   "metadata": {},
   "outputs": [],
   "source": [
    "df_shuffled = df_clean.sample(frac=1, random_state=42).reset_index(drop=True)"
   ]
  },
  {
   "cell_type": "code",
   "execution_count": 20,
   "id": "dd49c070",
   "metadata": {},
   "outputs": [
    {
     "data": {
      "text/html": [
       "<div>\n",
       "<style scoped>\n",
       "    .dataframe tbody tr th:only-of-type {\n",
       "        vertical-align: middle;\n",
       "    }\n",
       "\n",
       "    .dataframe tbody tr th {\n",
       "        vertical-align: top;\n",
       "    }\n",
       "\n",
       "    .dataframe thead th {\n",
       "        text-align: right;\n",
       "    }\n",
       "</style>\n",
       "<table border=\"1\" class=\"dataframe\">\n",
       "  <thead>\n",
       "    <tr style=\"text-align: right;\">\n",
       "      <th></th>\n",
       "      <th>id</th>\n",
       "      <th>code</th>\n",
       "      <th>label</th>\n",
       "    </tr>\n",
       "  </thead>\n",
       "  <tbody>\n",
       "    <tr>\n",
       "      <th>0</th>\n",
       "      <td>32740</td>\n",
       "      <td>import java.io.*;\\n\\npublic class XSSVulnerabl...</td>\n",
       "      <td>1</td>\n",
       "    </tr>\n",
       "    <tr>\n",
       "      <th>1</th>\n",
       "      <td>16088</td>\n",
       "      <td>Certainly! Here is an example of Java code sni...</td>\n",
       "      <td>1</td>\n",
       "    </tr>\n",
       "    <tr>\n",
       "      <th>2</th>\n",
       "      <td>15458</td>\n",
       "      <td>import java.io.File;\\nimport java.util.Scanner...</td>\n",
       "      <td>1</td>\n",
       "    </tr>\n",
       "    <tr>\n",
       "      <th>3</th>\n",
       "      <td>30545</td>\n",
       "      <td>import java.util.Scanner;\\n\\npublic class Buff...</td>\n",
       "      <td>1</td>\n",
       "    </tr>\n",
       "    <tr>\n",
       "      <th>4</th>\n",
       "      <td>12798</td>\n",
       "      <td>import java.io.IOException;\\nimport java.io.Pr...</td>\n",
       "      <td>1</td>\n",
       "    </tr>\n",
       "    <tr>\n",
       "      <th>5</th>\n",
       "      <td>24924</td>\n",
       "      <td>import java.io.File;\\nimport java.io.FileReade...</td>\n",
       "      <td>1</td>\n",
       "    </tr>\n",
       "    <tr>\n",
       "      <th>6</th>\n",
       "      <td>2945</td>\n",
       "      <td>import java.io.*;\\n\\npublic class XSSVulnerabl...</td>\n",
       "      <td>1</td>\n",
       "    </tr>\n",
       "    <tr>\n",
       "      <th>7</th>\n",
       "      <td>28978</td>\n",
       "      <td>import java.io.BufferedReader;\\nimport java.io...</td>\n",
       "      <td>1</td>\n",
       "    </tr>\n",
       "    <tr>\n",
       "      <th>8</th>\n",
       "      <td>17203</td>\n",
       "      <td>import java.io.*;\\n\\npublic class XSSVulnerabi...</td>\n",
       "      <td>1</td>\n",
       "    </tr>\n",
       "    <tr>\n",
       "      <th>9</th>\n",
       "      <td>24594</td>\n",
       "      <td>import java.io.BufferedReader;\\nimport java.io...</td>\n",
       "      <td>1</td>\n",
       "    </tr>\n",
       "    <tr>\n",
       "      <th>10</th>\n",
       "      <td>16956</td>\n",
       "      <td>import java.sql.Connection;\\nimport java.sql.D...</td>\n",
       "      <td>1</td>\n",
       "    </tr>\n",
       "    <tr>\n",
       "      <th>11</th>\n",
       "      <td>29060</td>\n",
       "      <td>import java.io.BufferedReader;\\nimport java.io...</td>\n",
       "      <td>1</td>\n",
       "    </tr>\n",
       "    <tr>\n",
       "      <th>12</th>\n",
       "      <td>41801</td>\n",
       "      <td>package com.example.fractalizer;\\n\\nimport jav...</td>\n",
       "      <td>0</td>\n",
       "    </tr>\n",
       "    <tr>\n",
       "      <th>13</th>\n",
       "      <td>3300</td>\n",
       "      <td>import java.io.BufferedReader;\\nimport java.io...</td>\n",
       "      <td>1</td>\n",
       "    </tr>\n",
       "    <tr>\n",
       "      <th>14</th>\n",
       "      <td>16525</td>\n",
       "      <td>import java.sql.Connection;\\nimport java.sql.D...</td>\n",
       "      <td>1</td>\n",
       "    </tr>\n",
       "    <tr>\n",
       "      <th>15</th>\n",
       "      <td>27715</td>\n",
       "      <td>import java.io.IOException;\\nimport java.io.Pr...</td>\n",
       "      <td>1</td>\n",
       "    </tr>\n",
       "    <tr>\n",
       "      <th>16</th>\n",
       "      <td>30877</td>\n",
       "      <td>import java.util.Scanner;\\n\\npublic class Buff...</td>\n",
       "      <td>1</td>\n",
       "    </tr>\n",
       "    <tr>\n",
       "      <th>17</th>\n",
       "      <td>15916</td>\n",
       "      <td>import java.io.File;\\nimport java.io.IOExcepti...</td>\n",
       "      <td>1</td>\n",
       "    </tr>\n",
       "    <tr>\n",
       "      <th>18</th>\n",
       "      <td>29485</td>\n",
       "      <td>import java.io.BufferedReader;\\nimport java.io...</td>\n",
       "      <td>1</td>\n",
       "    </tr>\n",
       "    <tr>\n",
       "      <th>19</th>\n",
       "      <td>34206</td>\n",
       "      <td>import java.io.BufferedReader;\\nimport java.io...</td>\n",
       "      <td>1</td>\n",
       "    </tr>\n",
       "  </tbody>\n",
       "</table>\n",
       "</div>"
      ],
      "text/plain": [
       "       id                                               code  label\n",
       "0   32740  import java.io.*;\\n\\npublic class XSSVulnerabl...      1\n",
       "1   16088  Certainly! Here is an example of Java code sni...      1\n",
       "2   15458  import java.io.File;\\nimport java.util.Scanner...      1\n",
       "3   30545  import java.util.Scanner;\\n\\npublic class Buff...      1\n",
       "4   12798  import java.io.IOException;\\nimport java.io.Pr...      1\n",
       "5   24924  import java.io.File;\\nimport java.io.FileReade...      1\n",
       "6    2945  import java.io.*;\\n\\npublic class XSSVulnerabl...      1\n",
       "7   28978  import java.io.BufferedReader;\\nimport java.io...      1\n",
       "8   17203  import java.io.*;\\n\\npublic class XSSVulnerabi...      1\n",
       "9   24594  import java.io.BufferedReader;\\nimport java.io...      1\n",
       "10  16956  import java.sql.Connection;\\nimport java.sql.D...      1\n",
       "11  29060  import java.io.BufferedReader;\\nimport java.io...      1\n",
       "12  41801  package com.example.fractalizer;\\n\\nimport jav...      0\n",
       "13   3300  import java.io.BufferedReader;\\nimport java.io...      1\n",
       "14  16525  import java.sql.Connection;\\nimport java.sql.D...      1\n",
       "15  27715  import java.io.IOException;\\nimport java.io.Pr...      1\n",
       "16  30877  import java.util.Scanner;\\n\\npublic class Buff...      1\n",
       "17  15916  import java.io.File;\\nimport java.io.IOExcepti...      1\n",
       "18  29485  import java.io.BufferedReader;\\nimport java.io...      1\n",
       "19  34206  import java.io.BufferedReader;\\nimport java.io...      1"
      ]
     },
     "execution_count": 20,
     "metadata": {},
     "output_type": "execute_result"
    }
   ],
   "source": [
    "df_shuffled.head(20)"
   ]
  },
  {
   "cell_type": "code",
   "execution_count": 26,
   "id": "4cc92c83",
   "metadata": {},
   "outputs": [
    {
     "name": "stdout",
     "output_type": "stream",
     "text": [
      "[1, 65, 122, 159, 167, 200, 302, 343, 480, 492, 550, 568, 574, 587, 603, 957, 977, 986, 987, 1086, 1116, 1147, 1186, 1346, 1381, 1429, 1437, 1519, 1603, 1625, 1731, 1785, 1790, 1881, 1884, 1895, 1919, 1953, 1977, 2052, 2061, 2063, 2078, 2083, 2166, 2219, 2245, 2276, 2304, 2321, 2341, 2356, 2578, 2593, 2704, 2789, 2814, 2828, 2841, 2859, 2894, 2922, 2947, 3109, 3117, 3224, 3298, 3331, 3390, 3413, 3444, 3534, 3600, 3638, 3697, 3703, 3738, 3786, 3908, 4022, 4051, 4107, 4192, 4197, 4214, 4216, 4233, 4340, 4413, 4414, 4428, 4439, 4647, 4695, 4918, 4920, 4938, 4953, 4983, 5009, 5070, 5203, 5253, 5274, 5311, 5353, 5389, 5415, 5469, 5529, 5550, 5567, 5647, 5701, 5725, 5846, 5858, 5935, 5949, 5957, 5977, 6004, 6050, 6069, 6099, 6104, 6141, 6174, 6193, 6235, 6280, 6349, 6364, 6400, 6415, 6437, 6474, 6528, 6676, 6684, 6687, 6732, 6789, 6818, 6895, 6927, 6946, 7349, 7366, 7473, 7483, 7517, 7549, 7641, 7666, 7688, 7721, 7733, 7790, 7806, 7868, 7948, 8065, 8130, 8136, 8223, 8235, 8318, 8351, 8430, 8445, 8465, 8567, 8585, 8596, 8623, 8691, 8693, 8781, 8813, 8833, 8884, 8983, 9066, 9089, 9122, 9150, 9193, 9221, 9234, 9247, 9394, 9442, 9446, 9460, 9520, 9598, 9637, 9701, 9706, 9807, 9832, 9854, 9870, 9994, 10051, 10106, 10127, 10158, 10200, 10215, 10223, 10271, 10287, 10380, 10397, 10476, 10492, 10537, 10573, 10771, 10882, 10911, 10915, 10968, 10969, 11016, 11070, 11077, 11094, 11161, 11200, 11224, 11355, 11388, 11412, 11476, 11541, 11554, 11556, 11577, 11645, 11823, 11869, 11917, 11934, 12020, 12069, 12140, 12201, 12242, 12440, 12476, 12561, 12670, 12732, 12810, 12818, 12887, 12919, 13015, 13021, 13038, 13061, 13134, 13163, 13217, 13303, 13318, 13333, 13404, 13498, 13562, 13655, 13780, 13807, 13857, 13875, 13892, 13903, 14003, 14037, 14147, 14253, 14305, 14369, 14420, 14466, 14505, 14523, 14536, 14550, 14554, 14565, 14591, 14601, 14627, 14661, 14704, 14744, 14877, 14952, 15041, 15095, 15117, 15120, 15173, 15180, 15214, 15221, 15225, 15229, 15261, 15265, 15288, 15318, 15339, 15467, 15500, 15569, 15577, 15655, 15692, 15770, 15924, 15966, 16063, 16068, 16074, 16075, 16153, 16291, 16337, 16393, 16707, 16765, 16772, 16802, 16986, 17017, 17126, 17136, 17282, 17294, 17317, 17331, 17431, 17560, 17604, 17665, 17736, 17816, 18187, 18298, 18319, 18325, 18328, 18349, 18456, 18483, 18485, 18581, 18666, 18748, 18759, 18813, 18883, 18913, 18937, 19051, 19077, 19265, 19328, 19331, 19402, 19428, 19477, 19518, 19657, 19733, 19809, 19827, 19851, 19887, 19922, 19989, 20001, 20024, 20109, 20196, 20228, 20252, 20434, 20515, 20569, 20583, 20671, 20699, 20782, 20853, 20902, 20933, 21099, 21128, 21139, 21261, 21279, 21296, 21315, 21402, 21414, 21475, 21507, 21524, 21565, 21635, 21662, 21664, 21698, 21836, 21907, 21926, 21966, 22038, 22071, 22103, 22132, 22143, 22217, 22233, 22304, 22384, 22391, 22445, 22482, 22518, 22576, 22612, 22613, 22618, 22637, 22681, 22709, 22726, 22871, 22879, 22960, 23024, 23075, 23117, 23161, 23423, 23508, 23548, 23554, 23751, 23760, 23762, 23808, 23856, 23906, 23910, 23923, 23928, 24021, 24064, 24112, 24146, 24178, 24188, 24220, 24296, 24300, 24343, 24370, 24425, 24492, 24572, 24715, 24726, 24797, 24810, 24812, 24899, 24955, 24960, 24970, 25060, 25096, 25110, 25138, 25157, 25245, 25269, 25317, 25354, 25502, 25521, 25597, 25605, 25732, 25782, 25878, 25884, 25899, 25908, 25911, 25951, 25955, 25964, 26020, 26076, 26146, 26166, 26296, 26327, 26328, 26388, 26410, 26500, 26517, 26541, 26543, 26595, 26614, 26626, 26671, 26697, 26712, 26756, 26812, 26841, 26849, 26882, 26911, 26914, 26927, 26936, 27100, 27105, 27145, 27210, 27217, 27311, 27570, 27608, 27634, 27676, 27682, 27691, 27887, 27912, 27961, 28015, 28032, 28050, 28213, 28327, 28377, 28436, 28477, 28511, 28557, 28591, 28638, 28653, 28684, 28696, 28729, 28774, 28799, 28812, 28816, 28891, 28923, 28995, 29026, 29044, 29423, 29474, 29556, 29595, 29596, 29611, 29653, 29654, 29725, 29738, 29782, 29879, 29918, 29993, 30021, 30024, 30062, 30115, 30198, 30281, 30314, 30449, 30470, 30547, 30576, 30615, 30617, 30718, 30721, 30743, 30761, 30811, 30831, 30853, 30974, 31085, 31141, 31146, 31172, 31259, 31306, 31361, 31371, 31401, 31406, 31440, 31460, 31496, 31588, 31721, 31753, 31779, 31822, 31876, 31877, 31904, 31972, 32047, 32080, 32121, 32125, 32194, 32196, 32203, 32247, 32299, 32328, 32341, 32344, 32373, 32463, 32465, 32491, 32554, 32587, 32597, 32602, 32703, 32730, 32757, 32774, 32788, 32789, 32805, 32930, 33007, 33015, 33170, 33194, 33230, 33256, 33268, 33273, 33381, 33413, 33441, 33513, 33543, 33636, 33664, 33680, 33791, 33860, 33868, 33907, 33919, 34063, 34209, 34264, 34293, 34328, 34349, 34352, 34443, 34469, 34496, 34555, 34563, 34583, 34593, 34595, 34781, 34804, 34956, 34968, 35029, 35038, 35110, 35136, 35381, 35429, 35560, 35668, 35669, 35763, 35788, 35789, 35840, 35879, 35941, 35976, 36076, 36093, 36111, 36118, 36159, 36164, 36181, 36200, 36221, 36311, 36432]\n",
      "730\n"
     ]
    }
   ],
   "source": [
    "mask = ~df_shuffled['code'].str.strip().str.startswith((\"import\", \"package\", \"class\", \"public\", \"private\", \"protected\", \"/*\", \"//\"))\n",
    "indexes = df_shuffled[mask].index.tolist()\n",
    "print(indexes)\n",
    "print(len(indexes))"
   ]
  },
  {
   "cell_type": "code",
   "execution_count": 29,
   "id": "d776185b",
   "metadata": {},
   "outputs": [
    {
     "name": "stdout",
     "output_type": "stream",
     "text": [
      "         id                                               code  label\n",
      "1     16088  Certainly! Here is an example of Java code sni...      1\n",
      "65    10840  Certainly! Here is a Java code snippet demonst...      1\n",
      "122    5615  Sure! Here is an example of Java code that dem...      1\n",
      "159   11158  Certainly! Here is a Java code snippet demonst...      1\n",
      "167   11021  Certainly! Below is a Java code snippet demons...      1\n",
      "200   31348  String userInput = \"smith'; DROP TABLE users;-...      1\n",
      "302    5282  Certainly! Here is a Java code snippet that de...      1\n",
      "343   10984  Certainly! Here is a Java code snippet demonst...      1\n",
      "480   10845  Certainly! Here is a Java code snippet that de...      1\n",
      "492   16037  Certainly! Here is a Java code snippet demonst...      1\n",
      "550   16271  String userInput = getUserInput(); // Assume u...      1\n",
      "568   16023  Sure, here is a Java code snippet demonstratin...      1\n",
      "574   22142  String username = request.getParameter(\"userna...      1\n",
      "587    9138  String userInput = request.getParameter(\"usern...      1\n",
      "603   11002  Sure, here is a Java code snippet that demonst...      1\n",
      "957   16083  Certainly! Here is a Java code snippet that de...      1\n",
      "977   10831  Sure, here is an example of Java code demonstr...      1\n",
      "986   16302  String username = request.getParameter(\"userna...      1\n",
      "987   40934          Matcher m = RA_PATTERN.matcher(ra.trim...      0\n",
      "1086   8918  String userInput = \"admin'; DROP TABLE users; ...      1\n"
     ]
    }
   ],
   "source": [
    "print(df_shuffled.iloc[indexes].head(20))"
   ]
  },
  {
   "cell_type": "code",
   "execution_count": 31,
   "id": "5a7a90db",
   "metadata": {},
   "outputs": [],
   "source": [
    "df_clean = df_shuffled.drop(indexes).reset_index(drop=True)"
   ]
  },
  {
   "cell_type": "code",
   "execution_count": 32,
   "id": "f57fa08d",
   "metadata": {},
   "outputs": [
    {
     "name": "stdout",
     "output_type": "stream",
     "text": [
      "<class 'pandas.core.frame.DataFrame'>\n",
      "RangeIndex: 35743 entries, 0 to 35742\n",
      "Data columns (total 3 columns):\n",
      " #   Column  Non-Null Count  Dtype \n",
      "---  ------  --------------  ----- \n",
      " 0   id      35743 non-null  int64 \n",
      " 1   code    35743 non-null  object\n",
      " 2   label   35743 non-null  int64 \n",
      "dtypes: int64(2), object(1)\n",
      "memory usage: 837.9+ KB\n"
     ]
    }
   ],
   "source": [
    "df_clean.info()"
   ]
  },
  {
   "cell_type": "code",
   "execution_count": 33,
   "id": "7ad40125",
   "metadata": {},
   "outputs": [
    {
     "data": {
      "text/plain": [
       "label\n",
       "1    29431\n",
       "0     6312\n",
       "Name: count, dtype: int64"
      ]
     },
     "execution_count": 33,
     "metadata": {},
     "output_type": "execute_result"
    }
   ],
   "source": [
    "df_clean[\"label\"].value_counts()"
   ]
  },
  {
   "cell_type": "code",
   "execution_count": 34,
   "id": "3d0b06d4",
   "metadata": {},
   "outputs": [],
   "source": [
    "df_clean.to_csv(\"cleaned_data.csv\", index=False)"
   ]
  },
  {
   "cell_type": "code",
   "execution_count": null,
   "id": "26414696",
   "metadata": {},
   "outputs": [],
   "source": []
  }
 ],
 "metadata": {
  "kernelspec": {
   "display_name": "malcodeai",
   "language": "python",
   "name": "python3"
  },
  "language_info": {
   "codemirror_mode": {
    "name": "ipython",
    "version": 3
   },
   "file_extension": ".py",
   "mimetype": "text/x-python",
   "name": "python",
   "nbconvert_exporter": "python",
   "pygments_lexer": "ipython3",
   "version": "3.11.11"
  }
 },
 "nbformat": 4,
 "nbformat_minor": 5
}
